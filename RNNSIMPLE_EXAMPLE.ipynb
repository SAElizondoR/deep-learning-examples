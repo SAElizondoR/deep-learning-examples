{
 "cells": [
  {
   "cell_type": "code",
   "execution_count": 2,
   "metadata": {},
   "outputs": [],
   "source": [
    "import numpy as np"
   ]
  },
  {
   "cell_type": "code",
   "execution_count": 6,
   "metadata": {},
   "outputs": [
    {
     "name": "stdout",
     "output_type": "stream",
     "text": [
      "[[31.42]\n",
      " [32.77]\n",
      " [32.64]\n",
      " [33.95]]\n"
     ]
    }
   ],
   "source": [
    "# Datos de entrada\n",
    "x = np.array([31.42, 32.77, 32.64, 33.95]).reshape(-1, 1)\n",
    "print(x)"
   ]
  },
  {
   "cell_type": "code",
   "execution_count": 7,
   "metadata": {},
   "outputs": [],
   "source": [
    "# Asignación de pesos y sesgos\n",
    "Ux = np.array([[0.18662322, 1.2369459]])\n",
    "Wh = np.array([[0.86981213, 0.49338293],\n",
    "               [0.49338293, 0.8698122 ]])\n",
    "bh = np.zeros(2)\n",
    "Vy = np.array([[0.4635998],\n",
    "               [0.6538409]])\n",
    "by = np.zeros(1)"
   ]
  },
  {
   "cell_type": "code",
   "execution_count": 8,
   "metadata": {},
   "outputs": [
    {
     "name": "stdout",
     "output_type": "stream",
     "text": [
      "[179.38675754 179.38675754]\n"
     ]
    }
   ],
   "source": [
    "# Proceso recurrente con RELU como función de activación\n",
    "m = 2 # Número de neuronas recurrentes\n",
    "h = np.zeros((len(x), m)) # Asignación de la matriz de estados ocultos\n",
    "\n",
    "# Calcular las activaciones\n",
    "h[0] = np.dot(x[0], Ux) + bh # Primer estado oculto\n",
    "h[0] = np.maximum(0, h[0]) # Aplicar RELU al primer estado\n",
    "\n",
    "for t in range(1, len(x)):\n",
    "    h[t] = np.dot(x[t], Ux) + np.dot(h[t-1], Wh) + bh\n",
    "    h[t] = np.maximum(0, h[t]) # Aplicar la función RELU\n",
    "\n",
    "# Salida final\n",
    "y4 = np.dot(h[-1], Vy) + bh # Utilizar el último estado oculto\n",
    "print(y4)"
   ]
  }
 ],
 "metadata": {
  "kernelspec": {
   "display_name": ".venv",
   "language": "python",
   "name": "python3"
  },
  "language_info": {
   "codemirror_mode": {
    "name": "ipython",
    "version": 3
   },
   "file_extension": ".py",
   "mimetype": "text/x-python",
   "name": "python",
   "nbconvert_exporter": "python",
   "pygments_lexer": "ipython3",
   "version": "3.12.6"
  }
 },
 "nbformat": 4,
 "nbformat_minor": 2
}
